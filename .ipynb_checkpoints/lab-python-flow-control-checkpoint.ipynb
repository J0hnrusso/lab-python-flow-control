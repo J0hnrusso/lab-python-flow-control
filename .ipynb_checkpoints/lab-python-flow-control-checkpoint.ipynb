{
 "cells": [
  {
   "cell_type": "markdown",
   "id": "d3bfc191-8885-42ee-b0a0-bbab867c6f9f",
   "metadata": {
    "tags": []
   },
   "source": [
    "# Lab | Flow Control"
   ]
  },
  {
   "cell_type": "markdown",
   "id": "3851fcd1-cf98-4653-9c89-e003b7ec9400",
   "metadata": {},
   "source": [
    "## Exercise: Managing Customer Orders Optimized\n",
    "\n",
    "In the last lab, you were starting an online store that sells various products. To ensure smooth operations, you developed a program that manages customer orders and inventory.\n",
    "\n",
    "You did so without using flow control. Let's go a step further and improve this code.\n",
    "\n",
    "Follow the steps below to complete the exercise:\n",
    "\n",
    "1. Look at your code from the lab data structures, and improve repeated code with loops.\n",
    "\n",
    "2. Instead of asking the user to input the name of three products that a customer wants to order, do the following:\n",
    "    \n",
    "    a. Prompt the user to enter the name of a product that a customer wants to order.\n",
    "    \n",
    "    b. Add the product name to the \"customer_orders\" set.\n",
    "    \n",
    "    c. Ask the user if they want to add another product (yes/no).\n",
    "    \n",
    "    d. Continue the loop until the user does not want to add another product.\n",
    "\n",
    "3. Instead of updating the inventory by subtracting 1 from the quantity of each product, only do it for  the products that were ordered (those in \"customer_orders\")."
   ]
  },
  {
   "cell_type": "code",
   "execution_count": 1,
   "id": "ba00b2ba-81fb-4dfd-8c27-1e6a9d5ac0a7",
   "metadata": {},
   "outputs": [
    {
     "name": "stdin",
     "output_type": "stream",
     "text": [
      "Enter the quantity for t-shirt:  55\n",
      "Enter the quantity for mug:  11\n",
      "Enter the quantity for hat:  21\n",
      "Enter the quantity for book:  212\n",
      "Enter the quantity for keychain:  22\n"
     ]
    },
    {
     "name": "stdout",
     "output_type": "stream",
     "text": [
      "\n",
      "Inventory:\n",
      "t-shirt: 55\n",
      "mug: 11\n",
      "hat: 21\n",
      "book: 212\n",
      "keychain: 22\n",
      "\n",
      "Enter the names of three products the customer wants to order:\n"
     ]
    },
    {
     "name": "stdin",
     "output_type": "stream",
     "text": [
      "Enter a product name:  mu\n"
     ]
    },
    {
     "name": "stdout",
     "output_type": "stream",
     "text": [
      "'mu' is not a valid product. Please choose from ['t-shirt', 'mug', 'hat', 'book', 'keychain'].\n"
     ]
    },
    {
     "name": "stdin",
     "output_type": "stream",
     "text": [
      "Enter a product name:  mug\n"
     ]
    },
    {
     "name": "stdout",
     "output_type": "stream",
     "text": [
      "'mug' added to the order.\n"
     ]
    },
    {
     "name": "stdin",
     "output_type": "stream",
     "text": [
      "Enter a product name:  hat\n"
     ]
    },
    {
     "name": "stdout",
     "output_type": "stream",
     "text": [
      "'hat' added to the order.\n"
     ]
    },
    {
     "name": "stdin",
     "output_type": "stream",
     "text": [
      "Enter a product name:  book\n"
     ]
    },
    {
     "name": "stdout",
     "output_type": "stream",
     "text": [
      "'book' added to the order.\n"
     ]
    },
    {
     "name": "stdin",
     "output_type": "stream",
     "text": [
      "Do you want to add another product? (yes/no):  no\n"
     ]
    },
    {
     "name": "stdout",
     "output_type": "stream",
     "text": [
      "\n",
      "Customer Orders:\n",
      "mug\n",
      "book\n",
      "hat\n",
      "\n",
      "Updated Inventory:\n",
      "t-shirt: 55\n",
      "mug: 10\n",
      "hat: 20\n",
      "book: 211\n",
      "keychain: 22\n"
     ]
    }
   ],
   "source": [
    "products = [\"t-shirt\", \"mug\", \"hat\", \"book\", \"keychain\"]\n",
    "inventory = {}\n",
    "for product in products:\n",
    "    quantity = int(input(f\"Enter the quantity for {product}: \"))\n",
    "    inventory[product] = quantity\n",
    "\n",
    "print(\"\\nInventory:\")\n",
    "for item, qty in inventory.items():\n",
    "    print(f\"{item}: {qty}\")\n",
    "\n",
    "customer_orders = set()\n",
    "\n",
    "print(\"\\nEnter the names of three products the customer wants to order:\")\n",
    "while True:\n",
    "    while len(customer_orders) < 3:\n",
    "        product = input(\"Enter a product name: \")\n",
    "        if product in products:\n",
    "            customer_orders.add(product)\n",
    "            print(f\"'{product}' added to the order.\")\n",
    "        else:\n",
    "            print(f\"'{product}' is not a valid product. Please choose from {products}.\")\n",
    "    add_more = input(\"Do you want to add another product? (yes/no): \")\n",
    "    if add_more == \"yes\":\n",
    "        product = input(\"Enter a product name: \")\n",
    "        if product in products:\n",
    "            customer_orders.add(product)\n",
    "            print(f\"'{product}' added to the order.\")\n",
    "    else:\n",
    "        break\n",
    "\n",
    "print(\"\\nCustomer Orders:\")\n",
    "for item in customer_orders:\n",
    "    print(item)\n",
    "\n",
    "for product in customer_orders:\n",
    "    if inventory[product] > 0:\n",
    "        inventory[product] -= 1\n",
    "\n",
    "print(\"\\nUpdated Inventory:\")\n",
    "for product, quantity in inventory.items():\n",
    "    print(f\"{product}: {quantity}\")\n"
   ]
  },
  {
   "cell_type": "code",
   "execution_count": null,
   "id": "a95fb086-dcff-4bf9-a5dd-d94e3017b652",
   "metadata": {},
   "outputs": [],
   "source": []
  }
 ],
 "metadata": {
  "kernelspec": {
   "display_name": "Python 3 (ipykernel)",
   "language": "python",
   "name": "python3"
  },
  "language_info": {
   "codemirror_mode": {
    "name": "ipython",
    "version": 3
   },
   "file_extension": ".py",
   "mimetype": "text/x-python",
   "name": "python",
   "nbconvert_exporter": "python",
   "pygments_lexer": "ipython3",
   "version": "3.12.7"
  }
 },
 "nbformat": 4,
 "nbformat_minor": 5
}
